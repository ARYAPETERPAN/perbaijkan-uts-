{
 "cells": [
  {
   "cell_type": "markdown",
   "id": "c8f55b1c",
   "metadata": {},
   "source": [
    "1.Kriteria algoritma adalah memiliki instruksi yang jelas sehingga proses yang dikerjakan tidak ambigu dan membingungkan. Kriteria tersebut adalah \n",
    "\n",
    "A.Finitness\n",
    "\n",
    "B.Definiteness\n",
    "\n",
    "C.Effectiveness\n",
    "\n",
    "D.Exactly\n",
    "\n",
    "E.Unambiguous\n",
    "\n",
    "jawaban : B\n"
   ]
  },
  {
   "attachments": {},
   "cell_type": "markdown",
   "id": "dda1a597",
   "metadata": {},
   "source": [
    "2.Berdasarkan flowchart yang ada pada file attachment, Output apakah yang dihasilkan, jika\n",
    "\n",
    "-umur diisi dengan angka 4\n",
    "-tinggi diisi dengan angka 70\n",
    "A.Pengunjung dilarang naik wahana\n",
    "B.27000\n",
    "C.36000\n",
    "D.45000\n",
    "E.47500\n",
    "\n",
    "jawaban : a"
   ]
  },
  {
   "cell_type": "markdown",
   "id": "f0a013bb",
   "metadata": {},
   "source": [
    "3.Jika terdapat pseudocode seperti berikut ini:\n",
    "\n",
    "program salary_counting\n",
    "\n",
    "declaration:\n",
    "   var salary, num_of_work_days, num_off_days, transport_allowance:integer\n",
    "   transport_allowance : 20000\n",
    "algorithm:\n",
    "  read(num_of_work_days,num_off_days); {input user} \n",
    "  salary -> num_of_work_days * 300000 - (num_off_days * transport_allowance)\n",
    "  salary -> salary - (num_off_days * 300000)\n",
    "  \n",
    "  write(salary)\n",
    "\n",
    "Output apakah yang ditampilkan jika num_of_work_days diisi dengan nilai 22 dan num_off_days diisi dengan 5\n",
    "\n",
    " \n",
    "\n",
    "A.-1500000\n",
    "\n",
    "B.3000000\n",
    "\n",
    "C.3500000\n",
    "\n",
    "D.5000000\n",
    "\n",
    "E.5900000\n",
    "\n",
    "\n",
    "jawaban : D"
   ]
  },
  {
   "cell_type": "markdown",
   "id": "7d8a821a",
   "metadata": {},
   "source": [
    "4.Pada saat menggunakan IDE Jupyter Notebooks, untuk membuat cell markdown dengan tulisan JUPYTER GOODBOOKS dibawah cell code yang masih dalam keadaan aktif yaitu dengan cara ...\n",
    "\n",
    "A.ESCAPE -> B -> M -> ENTER -> JUPYTER GOODBOOKS\n",
    "\n",
    "\n",
    "B.ESCAPE -> A -> M -> ENTER -> JUPYTER GOODBOOKS\n",
    "\n",
    "\n",
    "C.ESCAPE -> B -> C -> ENTER -> JUPYTER GOODBOOKS\n",
    "\n",
    "\n",
    "D.ESCAPE -> M -> B -> ENTER -> JUPYTER GOODBOOKS\n",
    "\n",
    "\n",
    "E.ESCAPE -> M -> A -> ENTER -> JUPYTER GOODBOOKS\n",
    "\n",
    "\n",
    "jawaban : D"
   ]
  },
  {
   "cell_type": "markdown",
   "id": "98ed05d8",
   "metadata": {},
   "source": [
    "5.Proses untuk mengidentifikasi sebuah folder agar dilakukan tracking menggunakan git adalah dengan menggunakan perintah \n",
    "\n",
    "A.git config\n",
    "\n",
    "B.git status\n",
    "\n",
    "C.git init\n",
    "\n",
    "D.git commit -m\n",
    "\n",
    "E.git push -u add origin master git_url\n",
    "\n",
    "\n",
    "jawaban : A"
   ]
  },
  {
   "cell_type": "markdown",
   "id": "5bd51f6c",
   "metadata": {},
   "source": [
    "6.Berikut ini adalah aturan penamaan variabel yang tepat pada pemrograman python\n",
    "\n",
    "A.Nama variabel tidak boleh menggunakan underscore (_)\n",
    "\n",
    "B.Nama variabel tidak boleh menggunakan angka dan underscore(_)\n",
    "\n",
    "C.Nama variabel boleh menggunakan karakter @\n",
    "\n",
    "D.Nama variabel hanya boleh diawali oleh huruf\n",
    "\n",
    "E.Nama variabel hanya boleh diawali oleh huruf atau underscore.\n",
    "\n",
    "jawaban : D"
   ]
  },
  {
   "cell_type": "markdown",
   "id": "480ce34a",
   "metadata": {},
   "source": [
    "7.Output apakah yang dihasilkan, jika kode program seperti pada file attachment di eksekusi\n",
    "\n",
    "A.Error line 2\n",
    "\n",
    "B.Error line 3\n",
    "\n",
    "C.The book with the title 'My Programming is My Adventure' has a price 1000000\n",
    "\n",
    "D.The book with the title 'My Programming is My Adventure' has a price 1_000_000\n",
    "\n",
    "E.Program tidak error dan tidak ada jawaban yang tepat\n",
    "\n",
    "jawaban : E"
   ]
  },
  {
   "cell_type": "markdown",
   "id": "2dfcb4f2",
   "metadata": {},
   "source": [
    "8.Jika terdapat kode program seperti pada file attachment, baris manakah yang menjadi penyebab error?\n",
    "\n",
    "A.3 dan 5\n",
    "\n",
    "B.3 dan 4\n",
    "\n",
    "C.3\n",
    "\n",
    "D.4\n",
    "\n",
    "E.5\n",
    "\n",
    "jawaban : A"
   ]
  },
  {
   "cell_type": "markdown",
   "id": "51af11f4",
   "metadata": {},
   "source": [
    "9.Output apakah yang ditampilkan pada kode program seperti pada file attachment\n",
    "\n",
    "A.1 True True True\n",
    "\n",
    "B.0 True True True\n",
    "\n",
    "C.0 True True False\n",
    "\n",
    "D.1 True True False\n",
    "\n",
    "E.0 True False True\n",
    "\n",
    "jawaban : B"
   ]
  },
  {
   "cell_type": "markdown",
   "id": "b9c37148",
   "metadata": {},
   "source": [
    "10.Hasil output apakah yang dihasilkan jika terdapat angka dengan nilai = 255 kemudian dioperasikan AND dengan nilai = 15 ?\n",
    "\n",
    "A.True\n",
    "\n",
    "B.False\n",
    "\n",
    "C.15\n",
    "\n",
    "D.240\n",
    "\n",
    "E.270\n",
    "\n",
    "jawaban : A"
   ]
  },
  {
   "cell_type": "markdown",
   "id": "7e2b55f6",
   "metadata": {},
   "source": [
    "11.Terdapat variabel seperti berikut ini:\n",
    "\n",
    "address = \"Jalan Cibolang Kaler Nomor 21\"\n",
    "\n",
    "jika output yang diinginkan adalah jC maka proses pada kode program manakah yang benar ?\n",
    "\n",
    "A.c1 = address[1].lower(); c2 = address[7] ; print(c0 + c1)\n",
    "\n",
    "B.address = address.lower();c1 = address[0]; c2 = address[6] ; print(c1 + c2)\n",
    "\n",
    "C.address = address.upper();c1 = address[0].lower(); c2 = address[6].lower() ; print(c1 + c2)\n",
    "\n",
    "D.c1 = address[0].lower(); c2 = address[6] ; print(c1 + c2)\n",
    "\n",
    "E.address = address.lower();c1 = address[0].lower(); c2 = address[6] ; print(c1 + c2)\n",
    "\n",
    "\n",
    "jawaban : C"
   ]
  },
  {
   "cell_type": "markdown",
   "id": "d532ca11",
   "metadata": {},
   "source": [
    "12.Setiap kondisi yang dilakukan pengecekan pada percabangan, pasti akan berisikan operator ...\n",
    "\n",
    "A.Aritmatika\n",
    "\n",
    "B.Perbandingan\n",
    "\n",
    "C.Penugasan\n",
    "\n",
    "D.Bitwise\n",
    "\n",
    "E.Penjumlahan\n",
    "\n",
    "\n",
    "jawaban : A"
   ]
  },
  {
   "cell_type": "markdown",
   "id": "f012f33a",
   "metadata": {},
   "source": [
    "13.Manakah pernyataan berikut ini yang paling tepat?\n",
    "\n",
    "A.kode if selalu berpasangan dengan elif\n",
    "\n",
    "B.kode elif tidak harus selalu ada if diawal kondisi percabangan\n",
    "\n",
    "C.kode if boleh diletakkan di dalam if dengan menggunakan indentasi/TAB\n",
    "\n",
    "D.statement yang akan dieksekusi ketika kondisi percabangan terpenuhi (True) tidak harus menggunakan indentasi/TAB\n",
    "\n",
    "E.Indentasi/TAB digunakan hanya untuk perulangan\n",
    "\n",
    "jawaban : A"
   ]
  },
  {
   "cell_type": "markdown",
   "id": "b8d838bd",
   "metadata": {},
   "source": [
    "14.Output apakah yang ditampilkan jika kode program seperti pada file attachment dieksekusi?\n",
    "\n",
    "A.winger defender keeper\n",
    "\n",
    "B.playmaker defender keeper\n",
    "\n",
    "C.playmaker attacker\n",
    "\n",
    "D.winger defender\n",
    "\n",
    "E.playmaker attacker defender\n",
    "\n",
    "jawaban : A"
   ]
  },
  {
   "cell_type": "markdown",
   "id": "dc1bd1fe",
   "metadata": {},
   "source": [
    "15.Jika output kode program pada file attachment yang diinginkan adalah winger defender , maka nilai dari number_of_player diganti dengan\n",
    "\n",
    "A.20\n",
    "\n",
    "B.30\n",
    "\n",
    "C.50\n",
    "\n",
    "D.70\n",
    "\n",
    "E.80\n",
    "\n",
    "jawaban : A"
   ]
  },
  {
   "cell_type": "markdown",
   "id": "18049165",
   "metadata": {},
   "source": [
    "16.Looping for digunakan pada saat ..\n",
    "\n",
    "A.Terdapat statement yang akan dijalankan secara berulang-ulang\n",
    "\n",
    "B.Permasalahan perulangan telah diketahui batas awal dan batas akhirnya\n",
    "\n",
    "C.Permasalahan perulangan tidak diketahui batas awal dan batas akhirnya\n",
    "\n",
    "D.Terdapat kenaikan nilai per step/tahap\n",
    "\n",
    "E.Permasalahan perulangan yang sederhana\n",
    "\n",
    "jawaban : B"
   ]
  },
  {
   "cell_type": "markdown",
   "id": "ff0dbd54",
   "metadata": {},
   "source": [
    "17.Ciri-ciri dari looping while adalah ...\n",
    "\n",
    "A.Terdapat inisialisasi nilai pada blok kode perulangan\n",
    "\n",
    "B.Terdapat proses increment\n",
    "\n",
    "C.Terdapat proses decrement\n",
    "\n",
    "D.Terdapat statement yang akan mengubah nilai kondisi pada while menjadi False\n",
    "\n",
    "E.Tidak ada jawaban yang tepat\n",
    "\n",
    "jawaban : E"
   ]
  },
  {
   "cell_type": "markdown",
   "id": "2da11015",
   "metadata": {},
   "source": [
    "18.Output apakah yang dihasilkan, jika kode program seperti pada file attachment dieksekusi\n",
    "\n",
    "A.20\n",
    "\n",
    "B.50 40 30\n",
    "\n",
    "C.50 40 30 20\n",
    "\n",
    "D.50 40 30 20 10\n",
    "\n",
    "E.Error Program\n",
    "\n",
    "jawaban : A"
   ]
  },
  {
   "cell_type": "markdown",
   "id": "e59cb1a4",
   "metadata": {},
   "source": [
    "19.Output apakah yang dihasilkan, jika kode program seperti pada file attachment dieksekusi\n",
    "\n",
    "A.1 9\n",
    "\n",
    "B.5\n",
    "\n",
    "C.1 3 9\n",
    "\n",
    "D.5 35\n",
    "\n",
    "E.1 15 45\n",
    "\n",
    "jawaban : E"
   ]
  },
  {
   "cell_type": "markdown",
   "id": "d39e84ab",
   "metadata": {},
   "source": [
    "20.Jika terdapat kode program seperti pada file attachment\n",
    "\n",
    "Output apakah yang dihasilkan, jika kode program tersebut dieksekusi?\n",
    "\n",
    "A.-1 -2 -3 -4 -5 -6 -7 -8 -9 -10\n",
    "\n",
    "\n",
    "B.10 9 8 7 6 5 4 3 2 1\n",
    "\n",
    "\n",
    "C.-1 2 -3 4 -5 6 -7 8 -9 10\n",
    "\n",
    "\n",
    "D.Tidak ada output yang ditampilkan\n",
    "\n",
    "\n",
    "E.Program akan menampilkan nilai yang berkurang 1 terus menerus tak hingga (infinite loop)\n",
    "\n",
    "jawaban : E"
   ]
  },
  {
   "cell_type": "markdown",
   "id": "39decb0e",
   "metadata": {},
   "source": [
    "Essay 1. Buatlah program untuk mengecek bahwa sebuah email termasuk valid atau tidak . Valid diartikan True dan tidak valid diartikan False. Program dibuat dengan menggunakan string method tanpa condition (if) . Berikut contoh test case yang bisa digunakan sebagai acuan:\n",
    "\n",
    "input : alunsujjada@gmailcom\n",
    "output : False\n",
    "------------------------------------------\n",
    "input : alunsujjada@gmail.com\n",
    "output : True\n",
    "------------------------------------------\n",
    "input : alun.sujjada@gmail.com\n",
    "output : False\n",
    "------------------------------------------\n",
    "input : alunsujjada.gmail.com\n",
    "output : False\n",
    "------------------------------------------\n",
    "input : alun.sujjada@gmailcom\n",
    "output : False\n",
    "\n",
    "Clue : Gunakan pencarian posisi\n"
   ]
  },
  {
   "cell_type": "markdown",
   "id": "ceba0217",
   "metadata": {},
   "source": []
  },
  {
   "cell_type": "code",
   "execution_count": null,
   "id": "8ef2c3ea",
   "metadata": {},
   "outputs": [],
   "source": [
    "email = input(\"masukan email anda\")\n",
    "\n",
    "post_at = email.find('@')\n",
    "post_dot = email.find('.')\n",
    "\n",
    "print(post_at < post_dot)"
   ]
  },
  {
   "cell_type": "markdown",
   "id": "9acc8786",
   "metadata": {},
   "source": [
    "Essay 2.Buatlah program dengan menggunakan kondisi perulangan dan percabangan untuk melakukan penyandian huruf pada sebuah kalimat yaitu dengan ketentuan sebagai berikut \n",
    "\n",
    "mengganti huruf a atau A dengan 4\n",
    "mengganti huruf e atau E dengan 3\n",
    "mengganti huruf L dengan 7\n",
    "mengganti huruf S dengan 5\n",
    "Contoh :\n",
    "input : BELAJAR Pemrograman Python Sangat Mudah sekali\n",
    "output : B374J4R P3mrogr4m4n Python 54ng4t Mud4h s3k4li\n",
    "\n",
    "input : Looping For digunakan ketika sudah diketahui batas Awal dan Batas Akhir\n",
    "output : 7ooping For digun4k4n k3tik4 sud4h dik3t4hui b4t4s 4w4l d4n B4t4s 4khir"
   ]
  },
  {
   "cell_type": "code",
   "execution_count": null,
   "id": "38af7901",
   "metadata": {},
   "outputs": [],
   "source": [
    "kalimat = input('isikan kalimat anda : ')\n",
    "sandi =''\n",
    "for i in range(len(kalimat)):\n",
    "    if kalimat[i] == 'a' or kalimat[i]=='A':\n",
    "        sandi = samdi + '4'\n",
    "    else:\n",
    "        sandi = sandi + kalimat[i]\n",
    "        \n",
    "print(sandi)"
   ]
  }
 ],
 "metadata": {
  "kernelspec": {
   "display_name": "Python 3 (ipykernel)",
   "language": "python",
   "name": "python3"
  },
  "language_info": {
   "codemirror_mode": {
    "name": "ipython",
    "version": 3
   },
   "file_extension": ".py",
   "mimetype": "text/x-python",
   "name": "python",
   "nbconvert_exporter": "python",
   "pygments_lexer": "ipython3",
   "version": "3.9.12"
  }
 },
 "nbformat": 4,
 "nbformat_minor": 5
}
